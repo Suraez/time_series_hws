{
  "nbformat": 4,
  "nbformat_minor": 0,
  "metadata": {
    "colab": {
      "provenance": [],
      "authorship_tag": "ABX9TyOH0/3Cds8a2ODPOaOS74fq",
      "include_colab_link": true
    },
    "kernelspec": {
      "name": "python3",
      "display_name": "Python 3"
    },
    "language_info": {
      "name": "python"
    }
  },
  "cells": [
    {
      "cell_type": "markdown",
      "metadata": {
        "id": "view-in-github",
        "colab_type": "text"
      },
      "source": [
        "<a href=\"https://colab.research.google.com/github/Suraez/time_series_hws/blob/main/hw4.ipynb\" target=\"_parent\"><img src=\"https://colab.research.google.com/assets/colab-badge.svg\" alt=\"Open In Colab\"/></a>"
      ]
    },
    {
      "cell_type": "code",
      "execution_count": 1,
      "metadata": {
        "colab": {
          "base_uri": "https://localhost:8080/"
        },
        "id": "o6JOht6GYgMT",
        "outputId": "67adf4ff-98f5-458e-de6c-82a9610de890"
      },
      "outputs": [
        {
          "output_type": "stream",
          "name": "stdout",
          "text": [
            "preprocessed_dataset.csv  sample_data\n"
          ]
        }
      ],
      "source": [
        "!ls"
      ]
    },
    {
      "cell_type": "code",
      "source": [
        "import pandas as pd\n",
        "import numpy as np\n",
        "import matplotlib.pyplot as plt"
      ],
      "metadata": {
        "id": "EtDVTjgaYpYk"
      },
      "execution_count": 2,
      "outputs": []
    },
    {
      "cell_type": "code",
      "source": [
        "df = pd.read_csv(\"preprocessed_dataset.csv\")"
      ],
      "metadata": {
        "id": "BbycE-TnYs4Q"
      },
      "execution_count": 3,
      "outputs": []
    },
    {
      "cell_type": "code",
      "source": [
        "df.columns"
      ],
      "metadata": {
        "colab": {
          "base_uri": "https://localhost:8080/"
        },
        "id": "2y6fEy7gYzCr",
        "outputId": "d95cfa49-90e3-4a0e-d95c-1c6cd0927153"
      },
      "execution_count": 6,
      "outputs": [
        {
          "output_type": "execute_result",
          "data": {
            "text/plain": [
              "Index(['timestamp', 'requests', 'memory', 'cpu'], dtype='object')"
            ]
          },
          "metadata": {},
          "execution_count": 6
        }
      ]
    },
    {
      "cell_type": "markdown",
      "source": [
        "\n",
        "\n",
        "*   Apply Differencing\n",
        "*   Create Lag Features\n",
        "\n"
      ],
      "metadata": {
        "id": "aI8UdYGTZVnP"
      }
    },
    {
      "cell_type": "markdown",
      "source": [
        "Augmented Dickey-Fuller (ADF) Test"
      ],
      "metadata": {
        "id": "3Nku2izxZ_ul"
      }
    },
    {
      "cell_type": "code",
      "source": [
        "from statsmodels.tsa.stattools import adfuller\n",
        "\n",
        "\n",
        "def adf_test(ts):\n",
        "  # Run the ADF test\n",
        "  result = adfuller(ts)\n",
        "\n",
        "  # Print ADF test results\n",
        "  print(\"ADF Statistic:\", result[0])\n",
        "  print(\"p-value:\", result[1])\n",
        "  print(\"Number of lags used:\", result[2])\n",
        "  print(\"Number of observations used:\", result[3])\n",
        "  print(\"Critical Values:\")\n",
        "  for key, value in result[4].items():\n",
        "      print(f\"   {key}: {value}\")\n",
        "\n",
        "  # Interpretation help\n",
        "  if result[1] <= 0.05:\n",
        "      print(\"\\n✅ The series is likely stationary (reject the null hypothesis).\")\n",
        "  else:\n",
        "      print(\"\\n❌ The series is likely non-stationary (fail to reject the null hypothesis).\")"
      ],
      "metadata": {
        "id": "Cf8SH9LdYzqv"
      },
      "execution_count": 7,
      "outputs": []
    },
    {
      "cell_type": "code",
      "source": [
        "adf_test(df[\"requests\"])"
      ],
      "metadata": {
        "colab": {
          "base_uri": "https://localhost:8080/"
        },
        "id": "GJcC6uLJankk",
        "outputId": "2ef1fcbb-25af-438d-ed9b-c21627868e8d"
      },
      "execution_count": 8,
      "outputs": [
        {
          "output_type": "stream",
          "name": "stdout",
          "text": [
            "ADF Statistic: -3.5635634074044056\n",
            "p-value: 0.006497064521117549\n",
            "Number of lags used: 24\n",
            "Number of observations used: 1415\n",
            "Critical Values:\n",
            "   1%: -3.434979825137732\n",
            "   5%: -2.8635847436211317\n",
            "   10%: -2.5678586114197954\n",
            "\n",
            "✅ The series is likely stationary (reject the null hypothesis).\n"
          ]
        }
      ]
    },
    {
      "cell_type": "markdown",
      "source": [
        "SINCE DATA IS ALREADY STATIONARY SKIPPING THE DIFFERENCING"
      ],
      "metadata": {
        "id": "IJ_JZGTAav_5"
      }
    },
    {
      "cell_type": "markdown",
      "source": [
        "DOING THE FORWARD FILL"
      ],
      "metadata": {
        "id": "YxkaInhzbnY5"
      }
    },
    {
      "cell_type": "code",
      "source": [
        "df.ffill(inplace=True)\n"
      ],
      "metadata": {
        "id": "jjBTX5gXasBs"
      },
      "execution_count": 9,
      "outputs": []
    },
    {
      "cell_type": "code",
      "source": [],
      "metadata": {
        "id": "BEF4RRq7bp3N"
      },
      "execution_count": null,
      "outputs": []
    }
  ]
}