{
  "nbformat": 4,
  "nbformat_minor": 0,
  "metadata": {
    "colab": {
      "provenance": []
    },
    "kernelspec": {
      "name": "python3",
      "display_name": "Python 3"
    },
    "language_info": {
      "name": "python"
    }
  },
  "cells": [
    {
      "cell_type": "code",
      "execution_count": 272,
      "metadata": {
        "id": "9n9O9uPscBui"
      },
      "outputs": [],
      "source": [
        "import pandas as pd\n",
        "import numpy as np\n",
        "import matplotlib.pyplot as plt\n",
        "from sklearn.preprocessing import MinMaxScaler\n",
        "from sklearn.metrics import mean_absolute_error, mean_squared_error, r2_score\n",
        "from sklearn.model_selection import train_test_split\n",
        "from sklearn.linear_model import LinearRegression\n",
        "from sklearn.ensemble import RandomForestRegressor\n",
        "from sklearn.svm import SVR\n",
        "import warnings"
      ]
    },
    {
      "cell_type": "code",
      "source": [
        "warnings.filterwarnings(\"ignore\")"
      ],
      "metadata": {
        "id": "gE8Xd66gPXZH"
      },
      "execution_count": 273,
      "outputs": []
    },
    {
      "cell_type": "code",
      "source": [
        "df = pd.read_csv(\"/content/day_01.csv\")"
      ],
      "metadata": {
        "id": "yyyCG4bCcSfE"
      },
      "execution_count": 274,
      "outputs": []
    },
    {
      "cell_type": "code",
      "source": [
        "df.head()"
      ],
      "metadata": {
        "colab": {
          "base_uri": "https://localhost:8080/",
          "height": 235
        },
        "id": "O7abiVIZSy19",
        "outputId": "6c950bf2-1967-4293-875c-b8bc25790b25"
      },
      "execution_count": 275,
      "outputs": [
        {
          "output_type": "execute_result",
          "data": {
            "text/plain": [
              "   day   time   0   1   2     3     4   5     6   7  ...  5083  5084  5085  \\\n",
              "0    1  86400 NaN NaN NaN  7635  6832 NaN   845 NaN  ...   NaN   NaN   NaN   \n",
              "1    1  86460 NaN NaN NaN  6924  6187 NaN   991 NaN  ...   NaN   NaN   NaN   \n",
              "2    1  86520 NaN NaN NaN  6188  5614 NaN  1133 NaN  ...   NaN   NaN   NaN   \n",
              "3    1  86580 NaN NaN NaN  5106  4534 NaN  1141 NaN  ...   NaN   NaN   NaN   \n",
              "4    1  86640 NaN NaN NaN  4533  4040 NaN  1239 NaN  ...   NaN   NaN   NaN   \n",
              "\n",
              "   5086  5087  5088  5089  5090  5091  5092  \n",
              "0   NaN   NaN   NaN   NaN   NaN   NaN   NaN  \n",
              "1   NaN   NaN   NaN   NaN   NaN   NaN   NaN  \n",
              "2   NaN   NaN   NaN   NaN   NaN   NaN   NaN  \n",
              "3   NaN   NaN   NaN   NaN   NaN   NaN   NaN  \n",
              "4   NaN   NaN   NaN   NaN   NaN   NaN   NaN  \n",
              "\n",
              "[5 rows x 5095 columns]"
            ],
            "text/html": [
              "\n",
              "  <div id=\"df-d0df2269-333c-48d5-b1c6-748fc40851a4\" class=\"colab-df-container\">\n",
              "    <div>\n",
              "<style scoped>\n",
              "    .dataframe tbody tr th:only-of-type {\n",
              "        vertical-align: middle;\n",
              "    }\n",
              "\n",
              "    .dataframe tbody tr th {\n",
              "        vertical-align: top;\n",
              "    }\n",
              "\n",
              "    .dataframe thead th {\n",
              "        text-align: right;\n",
              "    }\n",
              "</style>\n",
              "<table border=\"1\" class=\"dataframe\">\n",
              "  <thead>\n",
              "    <tr style=\"text-align: right;\">\n",
              "      <th></th>\n",
              "      <th>day</th>\n",
              "      <th>time</th>\n",
              "      <th>0</th>\n",
              "      <th>1</th>\n",
              "      <th>2</th>\n",
              "      <th>3</th>\n",
              "      <th>4</th>\n",
              "      <th>5</th>\n",
              "      <th>6</th>\n",
              "      <th>7</th>\n",
              "      <th>...</th>\n",
              "      <th>5083</th>\n",
              "      <th>5084</th>\n",
              "      <th>5085</th>\n",
              "      <th>5086</th>\n",
              "      <th>5087</th>\n",
              "      <th>5088</th>\n",
              "      <th>5089</th>\n",
              "      <th>5090</th>\n",
              "      <th>5091</th>\n",
              "      <th>5092</th>\n",
              "    </tr>\n",
              "  </thead>\n",
              "  <tbody>\n",
              "    <tr>\n",
              "      <th>0</th>\n",
              "      <td>1</td>\n",
              "      <td>86400</td>\n",
              "      <td>NaN</td>\n",
              "      <td>NaN</td>\n",
              "      <td>NaN</td>\n",
              "      <td>7635</td>\n",
              "      <td>6832</td>\n",
              "      <td>NaN</td>\n",
              "      <td>845</td>\n",
              "      <td>NaN</td>\n",
              "      <td>...</td>\n",
              "      <td>NaN</td>\n",
              "      <td>NaN</td>\n",
              "      <td>NaN</td>\n",
              "      <td>NaN</td>\n",
              "      <td>NaN</td>\n",
              "      <td>NaN</td>\n",
              "      <td>NaN</td>\n",
              "      <td>NaN</td>\n",
              "      <td>NaN</td>\n",
              "      <td>NaN</td>\n",
              "    </tr>\n",
              "    <tr>\n",
              "      <th>1</th>\n",
              "      <td>1</td>\n",
              "      <td>86460</td>\n",
              "      <td>NaN</td>\n",
              "      <td>NaN</td>\n",
              "      <td>NaN</td>\n",
              "      <td>6924</td>\n",
              "      <td>6187</td>\n",
              "      <td>NaN</td>\n",
              "      <td>991</td>\n",
              "      <td>NaN</td>\n",
              "      <td>...</td>\n",
              "      <td>NaN</td>\n",
              "      <td>NaN</td>\n",
              "      <td>NaN</td>\n",
              "      <td>NaN</td>\n",
              "      <td>NaN</td>\n",
              "      <td>NaN</td>\n",
              "      <td>NaN</td>\n",
              "      <td>NaN</td>\n",
              "      <td>NaN</td>\n",
              "      <td>NaN</td>\n",
              "    </tr>\n",
              "    <tr>\n",
              "      <th>2</th>\n",
              "      <td>1</td>\n",
              "      <td>86520</td>\n",
              "      <td>NaN</td>\n",
              "      <td>NaN</td>\n",
              "      <td>NaN</td>\n",
              "      <td>6188</td>\n",
              "      <td>5614</td>\n",
              "      <td>NaN</td>\n",
              "      <td>1133</td>\n",
              "      <td>NaN</td>\n",
              "      <td>...</td>\n",
              "      <td>NaN</td>\n",
              "      <td>NaN</td>\n",
              "      <td>NaN</td>\n",
              "      <td>NaN</td>\n",
              "      <td>NaN</td>\n",
              "      <td>NaN</td>\n",
              "      <td>NaN</td>\n",
              "      <td>NaN</td>\n",
              "      <td>NaN</td>\n",
              "      <td>NaN</td>\n",
              "    </tr>\n",
              "    <tr>\n",
              "      <th>3</th>\n",
              "      <td>1</td>\n",
              "      <td>86580</td>\n",
              "      <td>NaN</td>\n",
              "      <td>NaN</td>\n",
              "      <td>NaN</td>\n",
              "      <td>5106</td>\n",
              "      <td>4534</td>\n",
              "      <td>NaN</td>\n",
              "      <td>1141</td>\n",
              "      <td>NaN</td>\n",
              "      <td>...</td>\n",
              "      <td>NaN</td>\n",
              "      <td>NaN</td>\n",
              "      <td>NaN</td>\n",
              "      <td>NaN</td>\n",
              "      <td>NaN</td>\n",
              "      <td>NaN</td>\n",
              "      <td>NaN</td>\n",
              "      <td>NaN</td>\n",
              "      <td>NaN</td>\n",
              "      <td>NaN</td>\n",
              "    </tr>\n",
              "    <tr>\n",
              "      <th>4</th>\n",
              "      <td>1</td>\n",
              "      <td>86640</td>\n",
              "      <td>NaN</td>\n",
              "      <td>NaN</td>\n",
              "      <td>NaN</td>\n",
              "      <td>4533</td>\n",
              "      <td>4040</td>\n",
              "      <td>NaN</td>\n",
              "      <td>1239</td>\n",
              "      <td>NaN</td>\n",
              "      <td>...</td>\n",
              "      <td>NaN</td>\n",
              "      <td>NaN</td>\n",
              "      <td>NaN</td>\n",
              "      <td>NaN</td>\n",
              "      <td>NaN</td>\n",
              "      <td>NaN</td>\n",
              "      <td>NaN</td>\n",
              "      <td>NaN</td>\n",
              "      <td>NaN</td>\n",
              "      <td>NaN</td>\n",
              "    </tr>\n",
              "  </tbody>\n",
              "</table>\n",
              "<p>5 rows × 5095 columns</p>\n",
              "</div>\n",
              "    <div class=\"colab-df-buttons\">\n",
              "\n",
              "  <div class=\"colab-df-container\">\n",
              "    <button class=\"colab-df-convert\" onclick=\"convertToInteractive('df-d0df2269-333c-48d5-b1c6-748fc40851a4')\"\n",
              "            title=\"Convert this dataframe to an interactive table.\"\n",
              "            style=\"display:none;\">\n",
              "\n",
              "  <svg xmlns=\"http://www.w3.org/2000/svg\" height=\"24px\" viewBox=\"0 -960 960 960\">\n",
              "    <path d=\"M120-120v-720h720v720H120Zm60-500h600v-160H180v160Zm220 220h160v-160H400v160Zm0 220h160v-160H400v160ZM180-400h160v-160H180v160Zm440 0h160v-160H620v160ZM180-180h160v-160H180v160Zm440 0h160v-160H620v160Z\"/>\n",
              "  </svg>\n",
              "    </button>\n",
              "\n",
              "  <style>\n",
              "    .colab-df-container {\n",
              "      display:flex;\n",
              "      gap: 12px;\n",
              "    }\n",
              "\n",
              "    .colab-df-convert {\n",
              "      background-color: #E8F0FE;\n",
              "      border: none;\n",
              "      border-radius: 50%;\n",
              "      cursor: pointer;\n",
              "      display: none;\n",
              "      fill: #1967D2;\n",
              "      height: 32px;\n",
              "      padding: 0 0 0 0;\n",
              "      width: 32px;\n",
              "    }\n",
              "\n",
              "    .colab-df-convert:hover {\n",
              "      background-color: #E2EBFA;\n",
              "      box-shadow: 0px 1px 2px rgba(60, 64, 67, 0.3), 0px 1px 3px 1px rgba(60, 64, 67, 0.15);\n",
              "      fill: #174EA6;\n",
              "    }\n",
              "\n",
              "    .colab-df-buttons div {\n",
              "      margin-bottom: 4px;\n",
              "    }\n",
              "\n",
              "    [theme=dark] .colab-df-convert {\n",
              "      background-color: #3B4455;\n",
              "      fill: #D2E3FC;\n",
              "    }\n",
              "\n",
              "    [theme=dark] .colab-df-convert:hover {\n",
              "      background-color: #434B5C;\n",
              "      box-shadow: 0px 1px 3px 1px rgba(0, 0, 0, 0.15);\n",
              "      filter: drop-shadow(0px 1px 2px rgba(0, 0, 0, 0.3));\n",
              "      fill: #FFFFFF;\n",
              "    }\n",
              "  </style>\n",
              "\n",
              "    <script>\n",
              "      const buttonEl =\n",
              "        document.querySelector('#df-d0df2269-333c-48d5-b1c6-748fc40851a4 button.colab-df-convert');\n",
              "      buttonEl.style.display =\n",
              "        google.colab.kernel.accessAllowed ? 'block' : 'none';\n",
              "\n",
              "      async function convertToInteractive(key) {\n",
              "        const element = document.querySelector('#df-d0df2269-333c-48d5-b1c6-748fc40851a4');\n",
              "        const dataTable =\n",
              "          await google.colab.kernel.invokeFunction('convertToInteractive',\n",
              "                                                    [key], {});\n",
              "        if (!dataTable) return;\n",
              "\n",
              "        const docLinkHtml = 'Like what you see? Visit the ' +\n",
              "          '<a target=\"_blank\" href=https://colab.research.google.com/notebooks/data_table.ipynb>data table notebook</a>'\n",
              "          + ' to learn more about interactive tables.';\n",
              "        element.innerHTML = '';\n",
              "        dataTable['output_type'] = 'display_data';\n",
              "        await google.colab.output.renderOutput(dataTable, element);\n",
              "        const docLink = document.createElement('div');\n",
              "        docLink.innerHTML = docLinkHtml;\n",
              "        element.appendChild(docLink);\n",
              "      }\n",
              "    </script>\n",
              "  </div>\n",
              "\n",
              "\n",
              "<div id=\"df-37918ef2-5276-4fc0-a356-610d3ffc49dd\">\n",
              "  <button class=\"colab-df-quickchart\" onclick=\"quickchart('df-37918ef2-5276-4fc0-a356-610d3ffc49dd')\"\n",
              "            title=\"Suggest charts\"\n",
              "            style=\"display:none;\">\n",
              "\n",
              "<svg xmlns=\"http://www.w3.org/2000/svg\" height=\"24px\"viewBox=\"0 0 24 24\"\n",
              "     width=\"24px\">\n",
              "    <g>\n",
              "        <path d=\"M19 3H5c-1.1 0-2 .9-2 2v14c0 1.1.9 2 2 2h14c1.1 0 2-.9 2-2V5c0-1.1-.9-2-2-2zM9 17H7v-7h2v7zm4 0h-2V7h2v10zm4 0h-2v-4h2v4z\"/>\n",
              "    </g>\n",
              "</svg>\n",
              "  </button>\n",
              "\n",
              "<style>\n",
              "  .colab-df-quickchart {\n",
              "      --bg-color: #E8F0FE;\n",
              "      --fill-color: #1967D2;\n",
              "      --hover-bg-color: #E2EBFA;\n",
              "      --hover-fill-color: #174EA6;\n",
              "      --disabled-fill-color: #AAA;\n",
              "      --disabled-bg-color: #DDD;\n",
              "  }\n",
              "\n",
              "  [theme=dark] .colab-df-quickchart {\n",
              "      --bg-color: #3B4455;\n",
              "      --fill-color: #D2E3FC;\n",
              "      --hover-bg-color: #434B5C;\n",
              "      --hover-fill-color: #FFFFFF;\n",
              "      --disabled-bg-color: #3B4455;\n",
              "      --disabled-fill-color: #666;\n",
              "  }\n",
              "\n",
              "  .colab-df-quickchart {\n",
              "    background-color: var(--bg-color);\n",
              "    border: none;\n",
              "    border-radius: 50%;\n",
              "    cursor: pointer;\n",
              "    display: none;\n",
              "    fill: var(--fill-color);\n",
              "    height: 32px;\n",
              "    padding: 0;\n",
              "    width: 32px;\n",
              "  }\n",
              "\n",
              "  .colab-df-quickchart:hover {\n",
              "    background-color: var(--hover-bg-color);\n",
              "    box-shadow: 0 1px 2px rgba(60, 64, 67, 0.3), 0 1px 3px 1px rgba(60, 64, 67, 0.15);\n",
              "    fill: var(--button-hover-fill-color);\n",
              "  }\n",
              "\n",
              "  .colab-df-quickchart-complete:disabled,\n",
              "  .colab-df-quickchart-complete:disabled:hover {\n",
              "    background-color: var(--disabled-bg-color);\n",
              "    fill: var(--disabled-fill-color);\n",
              "    box-shadow: none;\n",
              "  }\n",
              "\n",
              "  .colab-df-spinner {\n",
              "    border: 2px solid var(--fill-color);\n",
              "    border-color: transparent;\n",
              "    border-bottom-color: var(--fill-color);\n",
              "    animation:\n",
              "      spin 1s steps(1) infinite;\n",
              "  }\n",
              "\n",
              "  @keyframes spin {\n",
              "    0% {\n",
              "      border-color: transparent;\n",
              "      border-bottom-color: var(--fill-color);\n",
              "      border-left-color: var(--fill-color);\n",
              "    }\n",
              "    20% {\n",
              "      border-color: transparent;\n",
              "      border-left-color: var(--fill-color);\n",
              "      border-top-color: var(--fill-color);\n",
              "    }\n",
              "    30% {\n",
              "      border-color: transparent;\n",
              "      border-left-color: var(--fill-color);\n",
              "      border-top-color: var(--fill-color);\n",
              "      border-right-color: var(--fill-color);\n",
              "    }\n",
              "    40% {\n",
              "      border-color: transparent;\n",
              "      border-right-color: var(--fill-color);\n",
              "      border-top-color: var(--fill-color);\n",
              "    }\n",
              "    60% {\n",
              "      border-color: transparent;\n",
              "      border-right-color: var(--fill-color);\n",
              "    }\n",
              "    80% {\n",
              "      border-color: transparent;\n",
              "      border-right-color: var(--fill-color);\n",
              "      border-bottom-color: var(--fill-color);\n",
              "    }\n",
              "    90% {\n",
              "      border-color: transparent;\n",
              "      border-bottom-color: var(--fill-color);\n",
              "    }\n",
              "  }\n",
              "</style>\n",
              "\n",
              "  <script>\n",
              "    async function quickchart(key) {\n",
              "      const quickchartButtonEl =\n",
              "        document.querySelector('#' + key + ' button');\n",
              "      quickchartButtonEl.disabled = true;  // To prevent multiple clicks.\n",
              "      quickchartButtonEl.classList.add('colab-df-spinner');\n",
              "      try {\n",
              "        const charts = await google.colab.kernel.invokeFunction(\n",
              "            'suggestCharts', [key], {});\n",
              "      } catch (error) {\n",
              "        console.error('Error during call to suggestCharts:', error);\n",
              "      }\n",
              "      quickchartButtonEl.classList.remove('colab-df-spinner');\n",
              "      quickchartButtonEl.classList.add('colab-df-quickchart-complete');\n",
              "    }\n",
              "    (() => {\n",
              "      let quickchartButtonEl =\n",
              "        document.querySelector('#df-37918ef2-5276-4fc0-a356-610d3ffc49dd button');\n",
              "      quickchartButtonEl.style.display =\n",
              "        google.colab.kernel.accessAllowed ? 'block' : 'none';\n",
              "    })();\n",
              "  </script>\n",
              "</div>\n",
              "\n",
              "    </div>\n",
              "  </div>\n"
            ],
            "application/vnd.google.colaboratory.intrinsic+json": {
              "type": "dataframe",
              "variable_name": "df"
            }
          },
          "metadata": {},
          "execution_count": 275
        }
      ]
    },
    {
      "cell_type": "code",
      "source": [
        "def create_lags(df):\n",
        "  df['lag_1'] = df['total_invocations'].shift(1)\n",
        "  df['lag_2'] = df['total_invocations'].shift(2)\n",
        "  df['lag_3'] = df['total_invocations'].shift(3)\n",
        "\n",
        "  # random initial values for first row\n",
        "  df['lag_1'].iloc[0] = np.random.randint(400, 600)\n",
        "  df['lag_2'].iloc[0:2] = np.random.randint(400, 600, size=2)\n",
        "  df['lag_3'].iloc[0:3] = np.random.randint(400, 600, size=3)\n",
        "  return df\n"
      ],
      "metadata": {
        "id": "icR5d04OVYH_"
      },
      "execution_count": 276,
      "outputs": []
    },
    {
      "cell_type": "code",
      "source": [
        "def get_preprocess_data_without_differencing(df):\n",
        "  # Set reference start date (01 Nov 2023)\n",
        "  start_date = pd.Timestamp(\"2023-11-01 00:00:00\")\n",
        "  df['datetime'] = start_date + pd.to_timedelta(df['time'], unit='s')\n",
        "\n",
        "  # did the forward fill\n",
        "  df = df.fillna(method='ffill', axis=1).fillna(0)\n",
        "\n",
        "  # replaced columns named 0,1 and 2 with 0 since no prevoius value\n",
        "  df[['0', '1', '2']] = 0\n",
        "\n",
        "  function_columns = df.columns.difference(['day', 'time', 'datetime'])\n",
        "\n",
        "  scaler = MinMaxScaler()\n",
        "  df[function_columns] = scaler.fit_transform(df[function_columns])\n",
        "\n",
        "  # sum the values from column named from 0 to 5092\n",
        "  function_columns = df.columns.difference(['day', 'time', 'datetime'])\n",
        "  df['total_invocations'] = df[function_columns].sum(axis=1).astype(int)\n",
        "  # Retain only relevant columns\n",
        "  df = df[['datetime', 'total_invocations']]\n",
        "\n",
        "  create_lags(df)\n",
        "\n",
        "  return df"
      ],
      "metadata": {
        "id": "hMWCwC5scWkp"
      },
      "execution_count": 277,
      "outputs": []
    },
    {
      "cell_type": "code",
      "source": [
        "def apply_differencing(df):\n",
        "    df_diff = df.copy()  # Create a clone of the original DataFrame\n",
        "    df_diff['diff_total_invocations'] = df_diff['total_invocations'].diff()\n",
        "    df_diff = df_diff.dropna().reset_index(drop=True)  # Remove first NaN row due to differencing\n",
        "    return df_diff\n"
      ],
      "metadata": {
        "id": "XhcAwH5ugrA6"
      },
      "execution_count": 278,
      "outputs": []
    },
    {
      "cell_type": "code",
      "source": [
        "df_without_differencing =  get_preprocess_data_without_differencing(df)"
      ],
      "metadata": {
        "id": "Cu8n3iI_Jdsm"
      },
      "execution_count": 279,
      "outputs": []
    },
    {
      "cell_type": "code",
      "source": [
        "differnced_preprocessed_df = apply_differencing(df_without_differencing)"
      ],
      "metadata": {
        "id": "FG-W0CcKhE-M"
      },
      "execution_count": 280,
      "outputs": []
    },
    {
      "cell_type": "code",
      "source": [
        "df_without_differencing.head()"
      ],
      "metadata": {
        "colab": {
          "base_uri": "https://localhost:8080/",
          "height": 206
        },
        "id": "kXzRlGzthOR2",
        "outputId": "f7cec9e3-c6ca-4be9-fb5c-d7801c4e5254"
      },
      "execution_count": 281,
      "outputs": [
        {
          "output_type": "execute_result",
          "data": {
            "text/plain": [
              "             datetime  total_invocations  lag_1  lag_2  lag_3\n",
              "0 2023-11-02 00:00:00                501  489.0  565.0  509.0\n",
              "1 2023-11-02 00:01:00                514  501.0  424.0  432.0\n",
              "2 2023-11-02 00:02:00                485  514.0  501.0  404.0\n",
              "3 2023-11-02 00:03:00                468  485.0  514.0  501.0\n",
              "4 2023-11-02 00:04:00                503  468.0  485.0  514.0"
            ],
            "text/html": [
              "\n",
              "  <div id=\"df-c110f4b3-dfd7-4fa2-9d25-817f4fc4b4eb\" class=\"colab-df-container\">\n",
              "    <div>\n",
              "<style scoped>\n",
              "    .dataframe tbody tr th:only-of-type {\n",
              "        vertical-align: middle;\n",
              "    }\n",
              "\n",
              "    .dataframe tbody tr th {\n",
              "        vertical-align: top;\n",
              "    }\n",
              "\n",
              "    .dataframe thead th {\n",
              "        text-align: right;\n",
              "    }\n",
              "</style>\n",
              "<table border=\"1\" class=\"dataframe\">\n",
              "  <thead>\n",
              "    <tr style=\"text-align: right;\">\n",
              "      <th></th>\n",
              "      <th>datetime</th>\n",
              "      <th>total_invocations</th>\n",
              "      <th>lag_1</th>\n",
              "      <th>lag_2</th>\n",
              "      <th>lag_3</th>\n",
              "    </tr>\n",
              "  </thead>\n",
              "  <tbody>\n",
              "    <tr>\n",
              "      <th>0</th>\n",
              "      <td>2023-11-02 00:00:00</td>\n",
              "      <td>501</td>\n",
              "      <td>489.0</td>\n",
              "      <td>565.0</td>\n",
              "      <td>509.0</td>\n",
              "    </tr>\n",
              "    <tr>\n",
              "      <th>1</th>\n",
              "      <td>2023-11-02 00:01:00</td>\n",
              "      <td>514</td>\n",
              "      <td>501.0</td>\n",
              "      <td>424.0</td>\n",
              "      <td>432.0</td>\n",
              "    </tr>\n",
              "    <tr>\n",
              "      <th>2</th>\n",
              "      <td>2023-11-02 00:02:00</td>\n",
              "      <td>485</td>\n",
              "      <td>514.0</td>\n",
              "      <td>501.0</td>\n",
              "      <td>404.0</td>\n",
              "    </tr>\n",
              "    <tr>\n",
              "      <th>3</th>\n",
              "      <td>2023-11-02 00:03:00</td>\n",
              "      <td>468</td>\n",
              "      <td>485.0</td>\n",
              "      <td>514.0</td>\n",
              "      <td>501.0</td>\n",
              "    </tr>\n",
              "    <tr>\n",
              "      <th>4</th>\n",
              "      <td>2023-11-02 00:04:00</td>\n",
              "      <td>503</td>\n",
              "      <td>468.0</td>\n",
              "      <td>485.0</td>\n",
              "      <td>514.0</td>\n",
              "    </tr>\n",
              "  </tbody>\n",
              "</table>\n",
              "</div>\n",
              "    <div class=\"colab-df-buttons\">\n",
              "\n",
              "  <div class=\"colab-df-container\">\n",
              "    <button class=\"colab-df-convert\" onclick=\"convertToInteractive('df-c110f4b3-dfd7-4fa2-9d25-817f4fc4b4eb')\"\n",
              "            title=\"Convert this dataframe to an interactive table.\"\n",
              "            style=\"display:none;\">\n",
              "\n",
              "  <svg xmlns=\"http://www.w3.org/2000/svg\" height=\"24px\" viewBox=\"0 -960 960 960\">\n",
              "    <path d=\"M120-120v-720h720v720H120Zm60-500h600v-160H180v160Zm220 220h160v-160H400v160Zm0 220h160v-160H400v160ZM180-400h160v-160H180v160Zm440 0h160v-160H620v160ZM180-180h160v-160H180v160Zm440 0h160v-160H620v160Z\"/>\n",
              "  </svg>\n",
              "    </button>\n",
              "\n",
              "  <style>\n",
              "    .colab-df-container {\n",
              "      display:flex;\n",
              "      gap: 12px;\n",
              "    }\n",
              "\n",
              "    .colab-df-convert {\n",
              "      background-color: #E8F0FE;\n",
              "      border: none;\n",
              "      border-radius: 50%;\n",
              "      cursor: pointer;\n",
              "      display: none;\n",
              "      fill: #1967D2;\n",
              "      height: 32px;\n",
              "      padding: 0 0 0 0;\n",
              "      width: 32px;\n",
              "    }\n",
              "\n",
              "    .colab-df-convert:hover {\n",
              "      background-color: #E2EBFA;\n",
              "      box-shadow: 0px 1px 2px rgba(60, 64, 67, 0.3), 0px 1px 3px 1px rgba(60, 64, 67, 0.15);\n",
              "      fill: #174EA6;\n",
              "    }\n",
              "\n",
              "    .colab-df-buttons div {\n",
              "      margin-bottom: 4px;\n",
              "    }\n",
              "\n",
              "    [theme=dark] .colab-df-convert {\n",
              "      background-color: #3B4455;\n",
              "      fill: #D2E3FC;\n",
              "    }\n",
              "\n",
              "    [theme=dark] .colab-df-convert:hover {\n",
              "      background-color: #434B5C;\n",
              "      box-shadow: 0px 1px 3px 1px rgba(0, 0, 0, 0.15);\n",
              "      filter: drop-shadow(0px 1px 2px rgba(0, 0, 0, 0.3));\n",
              "      fill: #FFFFFF;\n",
              "    }\n",
              "  </style>\n",
              "\n",
              "    <script>\n",
              "      const buttonEl =\n",
              "        document.querySelector('#df-c110f4b3-dfd7-4fa2-9d25-817f4fc4b4eb button.colab-df-convert');\n",
              "      buttonEl.style.display =\n",
              "        google.colab.kernel.accessAllowed ? 'block' : 'none';\n",
              "\n",
              "      async function convertToInteractive(key) {\n",
              "        const element = document.querySelector('#df-c110f4b3-dfd7-4fa2-9d25-817f4fc4b4eb');\n",
              "        const dataTable =\n",
              "          await google.colab.kernel.invokeFunction('convertToInteractive',\n",
              "                                                    [key], {});\n",
              "        if (!dataTable) return;\n",
              "\n",
              "        const docLinkHtml = 'Like what you see? Visit the ' +\n",
              "          '<a target=\"_blank\" href=https://colab.research.google.com/notebooks/data_table.ipynb>data table notebook</a>'\n",
              "          + ' to learn more about interactive tables.';\n",
              "        element.innerHTML = '';\n",
              "        dataTable['output_type'] = 'display_data';\n",
              "        await google.colab.output.renderOutput(dataTable, element);\n",
              "        const docLink = document.createElement('div');\n",
              "        docLink.innerHTML = docLinkHtml;\n",
              "        element.appendChild(docLink);\n",
              "      }\n",
              "    </script>\n",
              "  </div>\n",
              "\n",
              "\n",
              "<div id=\"df-7975e773-1aec-469b-8de3-067a7f011a69\">\n",
              "  <button class=\"colab-df-quickchart\" onclick=\"quickchart('df-7975e773-1aec-469b-8de3-067a7f011a69')\"\n",
              "            title=\"Suggest charts\"\n",
              "            style=\"display:none;\">\n",
              "\n",
              "<svg xmlns=\"http://www.w3.org/2000/svg\" height=\"24px\"viewBox=\"0 0 24 24\"\n",
              "     width=\"24px\">\n",
              "    <g>\n",
              "        <path d=\"M19 3H5c-1.1 0-2 .9-2 2v14c0 1.1.9 2 2 2h14c1.1 0 2-.9 2-2V5c0-1.1-.9-2-2-2zM9 17H7v-7h2v7zm4 0h-2V7h2v10zm4 0h-2v-4h2v4z\"/>\n",
              "    </g>\n",
              "</svg>\n",
              "  </button>\n",
              "\n",
              "<style>\n",
              "  .colab-df-quickchart {\n",
              "      --bg-color: #E8F0FE;\n",
              "      --fill-color: #1967D2;\n",
              "      --hover-bg-color: #E2EBFA;\n",
              "      --hover-fill-color: #174EA6;\n",
              "      --disabled-fill-color: #AAA;\n",
              "      --disabled-bg-color: #DDD;\n",
              "  }\n",
              "\n",
              "  [theme=dark] .colab-df-quickchart {\n",
              "      --bg-color: #3B4455;\n",
              "      --fill-color: #D2E3FC;\n",
              "      --hover-bg-color: #434B5C;\n",
              "      --hover-fill-color: #FFFFFF;\n",
              "      --disabled-bg-color: #3B4455;\n",
              "      --disabled-fill-color: #666;\n",
              "  }\n",
              "\n",
              "  .colab-df-quickchart {\n",
              "    background-color: var(--bg-color);\n",
              "    border: none;\n",
              "    border-radius: 50%;\n",
              "    cursor: pointer;\n",
              "    display: none;\n",
              "    fill: var(--fill-color);\n",
              "    height: 32px;\n",
              "    padding: 0;\n",
              "    width: 32px;\n",
              "  }\n",
              "\n",
              "  .colab-df-quickchart:hover {\n",
              "    background-color: var(--hover-bg-color);\n",
              "    box-shadow: 0 1px 2px rgba(60, 64, 67, 0.3), 0 1px 3px 1px rgba(60, 64, 67, 0.15);\n",
              "    fill: var(--button-hover-fill-color);\n",
              "  }\n",
              "\n",
              "  .colab-df-quickchart-complete:disabled,\n",
              "  .colab-df-quickchart-complete:disabled:hover {\n",
              "    background-color: var(--disabled-bg-color);\n",
              "    fill: var(--disabled-fill-color);\n",
              "    box-shadow: none;\n",
              "  }\n",
              "\n",
              "  .colab-df-spinner {\n",
              "    border: 2px solid var(--fill-color);\n",
              "    border-color: transparent;\n",
              "    border-bottom-color: var(--fill-color);\n",
              "    animation:\n",
              "      spin 1s steps(1) infinite;\n",
              "  }\n",
              "\n",
              "  @keyframes spin {\n",
              "    0% {\n",
              "      border-color: transparent;\n",
              "      border-bottom-color: var(--fill-color);\n",
              "      border-left-color: var(--fill-color);\n",
              "    }\n",
              "    20% {\n",
              "      border-color: transparent;\n",
              "      border-left-color: var(--fill-color);\n",
              "      border-top-color: var(--fill-color);\n",
              "    }\n",
              "    30% {\n",
              "      border-color: transparent;\n",
              "      border-left-color: var(--fill-color);\n",
              "      border-top-color: var(--fill-color);\n",
              "      border-right-color: var(--fill-color);\n",
              "    }\n",
              "    40% {\n",
              "      border-color: transparent;\n",
              "      border-right-color: var(--fill-color);\n",
              "      border-top-color: var(--fill-color);\n",
              "    }\n",
              "    60% {\n",
              "      border-color: transparent;\n",
              "      border-right-color: var(--fill-color);\n",
              "    }\n",
              "    80% {\n",
              "      border-color: transparent;\n",
              "      border-right-color: var(--fill-color);\n",
              "      border-bottom-color: var(--fill-color);\n",
              "    }\n",
              "    90% {\n",
              "      border-color: transparent;\n",
              "      border-bottom-color: var(--fill-color);\n",
              "    }\n",
              "  }\n",
              "</style>\n",
              "\n",
              "  <script>\n",
              "    async function quickchart(key) {\n",
              "      const quickchartButtonEl =\n",
              "        document.querySelector('#' + key + ' button');\n",
              "      quickchartButtonEl.disabled = true;  // To prevent multiple clicks.\n",
              "      quickchartButtonEl.classList.add('colab-df-spinner');\n",
              "      try {\n",
              "        const charts = await google.colab.kernel.invokeFunction(\n",
              "            'suggestCharts', [key], {});\n",
              "      } catch (error) {\n",
              "        console.error('Error during call to suggestCharts:', error);\n",
              "      }\n",
              "      quickchartButtonEl.classList.remove('colab-df-spinner');\n",
              "      quickchartButtonEl.classList.add('colab-df-quickchart-complete');\n",
              "    }\n",
              "    (() => {\n",
              "      let quickchartButtonEl =\n",
              "        document.querySelector('#df-7975e773-1aec-469b-8de3-067a7f011a69 button');\n",
              "      quickchartButtonEl.style.display =\n",
              "        google.colab.kernel.accessAllowed ? 'block' : 'none';\n",
              "    })();\n",
              "  </script>\n",
              "</div>\n",
              "\n",
              "    </div>\n",
              "  </div>\n"
            ],
            "application/vnd.google.colaboratory.intrinsic+json": {
              "type": "dataframe",
              "variable_name": "df_without_differencing",
              "summary": "{\n  \"name\": \"df_without_differencing\",\n  \"rows\": 1440,\n  \"fields\": [\n    {\n      \"column\": \"datetime\",\n      \"properties\": {\n        \"dtype\": \"date\",\n        \"min\": \"2023-11-02 00:00:00\",\n        \"max\": \"2023-11-02 23:59:00\",\n        \"num_unique_values\": 1440,\n        \"samples\": [\n          \"2023-11-02 02:48:00\",\n          \"2023-11-02 10:05:00\",\n          \"2023-11-02 09:08:00\"\n        ],\n        \"semantic_type\": \"\",\n        \"description\": \"\"\n      }\n    },\n    {\n      \"column\": \"total_invocations\",\n      \"properties\": {\n        \"dtype\": \"number\",\n        \"std\": 115,\n        \"min\": 353,\n        \"max\": 1812,\n        \"num_unique_values\": 337,\n        \"samples\": [\n          482,\n          557,\n          448\n        ],\n        \"semantic_type\": \"\",\n        \"description\": \"\"\n      }\n    },\n    {\n      \"column\": \"lag_1\",\n      \"properties\": {\n        \"dtype\": \"number\",\n        \"std\": 115.13001829982072,\n        \"min\": 353.0,\n        \"max\": 1812.0,\n        \"num_unique_values\": 337,\n        \"samples\": [\n          509.0,\n          557.0,\n          484.0\n        ],\n        \"semantic_type\": \"\",\n        \"description\": \"\"\n      }\n    },\n    {\n      \"column\": \"lag_2\",\n      \"properties\": {\n        \"dtype\": \"number\",\n        \"std\": 115.14781898947699,\n        \"min\": 353.0,\n        \"max\": 1812.0,\n        \"num_unique_values\": 337,\n        \"samples\": [\n          438.0,\n          523.0,\n          433.0\n        ],\n        \"semantic_type\": \"\",\n        \"description\": \"\"\n      }\n    },\n    {\n      \"column\": \"lag_3\",\n      \"properties\": {\n        \"dtype\": \"number\",\n        \"std\": 115.16546326834435,\n        \"min\": 353.0,\n        \"max\": 1812.0,\n        \"num_unique_values\": 338,\n        \"samples\": [\n          750.0,\n          894.0,\n          425.0\n        ],\n        \"semantic_type\": \"\",\n        \"description\": \"\"\n      }\n    }\n  ]\n}"
            }
          },
          "metadata": {},
          "execution_count": 281
        }
      ]
    },
    {
      "cell_type": "code",
      "source": [
        "differnced_preprocessed_df.head()"
      ],
      "metadata": {
        "colab": {
          "base_uri": "https://localhost:8080/",
          "height": 206
        },
        "id": "QYj5_Ozlhz_R",
        "outputId": "74df7271-1b67-4b09-b3a6-a7c53e263e66"
      },
      "execution_count": 282,
      "outputs": [
        {
          "output_type": "execute_result",
          "data": {
            "text/plain": [
              "             datetime  total_invocations  lag_1  lag_2  lag_3  \\\n",
              "0 2023-11-02 00:01:00                514  501.0  424.0  432.0   \n",
              "1 2023-11-02 00:02:00                485  514.0  501.0  404.0   \n",
              "2 2023-11-02 00:03:00                468  485.0  514.0  501.0   \n",
              "3 2023-11-02 00:04:00                503  468.0  485.0  514.0   \n",
              "4 2023-11-02 00:05:00                468  503.0  468.0  485.0   \n",
              "\n",
              "   diff_total_invocations  \n",
              "0                    13.0  \n",
              "1                   -29.0  \n",
              "2                   -17.0  \n",
              "3                    35.0  \n",
              "4                   -35.0  "
            ],
            "text/html": [
              "\n",
              "  <div id=\"df-b3fce5f9-1829-4b74-9ec3-e3cc78aaa5a2\" class=\"colab-df-container\">\n",
              "    <div>\n",
              "<style scoped>\n",
              "    .dataframe tbody tr th:only-of-type {\n",
              "        vertical-align: middle;\n",
              "    }\n",
              "\n",
              "    .dataframe tbody tr th {\n",
              "        vertical-align: top;\n",
              "    }\n",
              "\n",
              "    .dataframe thead th {\n",
              "        text-align: right;\n",
              "    }\n",
              "</style>\n",
              "<table border=\"1\" class=\"dataframe\">\n",
              "  <thead>\n",
              "    <tr style=\"text-align: right;\">\n",
              "      <th></th>\n",
              "      <th>datetime</th>\n",
              "      <th>total_invocations</th>\n",
              "      <th>lag_1</th>\n",
              "      <th>lag_2</th>\n",
              "      <th>lag_3</th>\n",
              "      <th>diff_total_invocations</th>\n",
              "    </tr>\n",
              "  </thead>\n",
              "  <tbody>\n",
              "    <tr>\n",
              "      <th>0</th>\n",
              "      <td>2023-11-02 00:01:00</td>\n",
              "      <td>514</td>\n",
              "      <td>501.0</td>\n",
              "      <td>424.0</td>\n",
              "      <td>432.0</td>\n",
              "      <td>13.0</td>\n",
              "    </tr>\n",
              "    <tr>\n",
              "      <th>1</th>\n",
              "      <td>2023-11-02 00:02:00</td>\n",
              "      <td>485</td>\n",
              "      <td>514.0</td>\n",
              "      <td>501.0</td>\n",
              "      <td>404.0</td>\n",
              "      <td>-29.0</td>\n",
              "    </tr>\n",
              "    <tr>\n",
              "      <th>2</th>\n",
              "      <td>2023-11-02 00:03:00</td>\n",
              "      <td>468</td>\n",
              "      <td>485.0</td>\n",
              "      <td>514.0</td>\n",
              "      <td>501.0</td>\n",
              "      <td>-17.0</td>\n",
              "    </tr>\n",
              "    <tr>\n",
              "      <th>3</th>\n",
              "      <td>2023-11-02 00:04:00</td>\n",
              "      <td>503</td>\n",
              "      <td>468.0</td>\n",
              "      <td>485.0</td>\n",
              "      <td>514.0</td>\n",
              "      <td>35.0</td>\n",
              "    </tr>\n",
              "    <tr>\n",
              "      <th>4</th>\n",
              "      <td>2023-11-02 00:05:00</td>\n",
              "      <td>468</td>\n",
              "      <td>503.0</td>\n",
              "      <td>468.0</td>\n",
              "      <td>485.0</td>\n",
              "      <td>-35.0</td>\n",
              "    </tr>\n",
              "  </tbody>\n",
              "</table>\n",
              "</div>\n",
              "    <div class=\"colab-df-buttons\">\n",
              "\n",
              "  <div class=\"colab-df-container\">\n",
              "    <button class=\"colab-df-convert\" onclick=\"convertToInteractive('df-b3fce5f9-1829-4b74-9ec3-e3cc78aaa5a2')\"\n",
              "            title=\"Convert this dataframe to an interactive table.\"\n",
              "            style=\"display:none;\">\n",
              "\n",
              "  <svg xmlns=\"http://www.w3.org/2000/svg\" height=\"24px\" viewBox=\"0 -960 960 960\">\n",
              "    <path d=\"M120-120v-720h720v720H120Zm60-500h600v-160H180v160Zm220 220h160v-160H400v160Zm0 220h160v-160H400v160ZM180-400h160v-160H180v160Zm440 0h160v-160H620v160ZM180-180h160v-160H180v160Zm440 0h160v-160H620v160Z\"/>\n",
              "  </svg>\n",
              "    </button>\n",
              "\n",
              "  <style>\n",
              "    .colab-df-container {\n",
              "      display:flex;\n",
              "      gap: 12px;\n",
              "    }\n",
              "\n",
              "    .colab-df-convert {\n",
              "      background-color: #E8F0FE;\n",
              "      border: none;\n",
              "      border-radius: 50%;\n",
              "      cursor: pointer;\n",
              "      display: none;\n",
              "      fill: #1967D2;\n",
              "      height: 32px;\n",
              "      padding: 0 0 0 0;\n",
              "      width: 32px;\n",
              "    }\n",
              "\n",
              "    .colab-df-convert:hover {\n",
              "      background-color: #E2EBFA;\n",
              "      box-shadow: 0px 1px 2px rgba(60, 64, 67, 0.3), 0px 1px 3px 1px rgba(60, 64, 67, 0.15);\n",
              "      fill: #174EA6;\n",
              "    }\n",
              "\n",
              "    .colab-df-buttons div {\n",
              "      margin-bottom: 4px;\n",
              "    }\n",
              "\n",
              "    [theme=dark] .colab-df-convert {\n",
              "      background-color: #3B4455;\n",
              "      fill: #D2E3FC;\n",
              "    }\n",
              "\n",
              "    [theme=dark] .colab-df-convert:hover {\n",
              "      background-color: #434B5C;\n",
              "      box-shadow: 0px 1px 3px 1px rgba(0, 0, 0, 0.15);\n",
              "      filter: drop-shadow(0px 1px 2px rgba(0, 0, 0, 0.3));\n",
              "      fill: #FFFFFF;\n",
              "    }\n",
              "  </style>\n",
              "\n",
              "    <script>\n",
              "      const buttonEl =\n",
              "        document.querySelector('#df-b3fce5f9-1829-4b74-9ec3-e3cc78aaa5a2 button.colab-df-convert');\n",
              "      buttonEl.style.display =\n",
              "        google.colab.kernel.accessAllowed ? 'block' : 'none';\n",
              "\n",
              "      async function convertToInteractive(key) {\n",
              "        const element = document.querySelector('#df-b3fce5f9-1829-4b74-9ec3-e3cc78aaa5a2');\n",
              "        const dataTable =\n",
              "          await google.colab.kernel.invokeFunction('convertToInteractive',\n",
              "                                                    [key], {});\n",
              "        if (!dataTable) return;\n",
              "\n",
              "        const docLinkHtml = 'Like what you see? Visit the ' +\n",
              "          '<a target=\"_blank\" href=https://colab.research.google.com/notebooks/data_table.ipynb>data table notebook</a>'\n",
              "          + ' to learn more about interactive tables.';\n",
              "        element.innerHTML = '';\n",
              "        dataTable['output_type'] = 'display_data';\n",
              "        await google.colab.output.renderOutput(dataTable, element);\n",
              "        const docLink = document.createElement('div');\n",
              "        docLink.innerHTML = docLinkHtml;\n",
              "        element.appendChild(docLink);\n",
              "      }\n",
              "    </script>\n",
              "  </div>\n",
              "\n",
              "\n",
              "<div id=\"df-53951b14-8c1a-4120-9b65-c1f55bce7a18\">\n",
              "  <button class=\"colab-df-quickchart\" onclick=\"quickchart('df-53951b14-8c1a-4120-9b65-c1f55bce7a18')\"\n",
              "            title=\"Suggest charts\"\n",
              "            style=\"display:none;\">\n",
              "\n",
              "<svg xmlns=\"http://www.w3.org/2000/svg\" height=\"24px\"viewBox=\"0 0 24 24\"\n",
              "     width=\"24px\">\n",
              "    <g>\n",
              "        <path d=\"M19 3H5c-1.1 0-2 .9-2 2v14c0 1.1.9 2 2 2h14c1.1 0 2-.9 2-2V5c0-1.1-.9-2-2-2zM9 17H7v-7h2v7zm4 0h-2V7h2v10zm4 0h-2v-4h2v4z\"/>\n",
              "    </g>\n",
              "</svg>\n",
              "  </button>\n",
              "\n",
              "<style>\n",
              "  .colab-df-quickchart {\n",
              "      --bg-color: #E8F0FE;\n",
              "      --fill-color: #1967D2;\n",
              "      --hover-bg-color: #E2EBFA;\n",
              "      --hover-fill-color: #174EA6;\n",
              "      --disabled-fill-color: #AAA;\n",
              "      --disabled-bg-color: #DDD;\n",
              "  }\n",
              "\n",
              "  [theme=dark] .colab-df-quickchart {\n",
              "      --bg-color: #3B4455;\n",
              "      --fill-color: #D2E3FC;\n",
              "      --hover-bg-color: #434B5C;\n",
              "      --hover-fill-color: #FFFFFF;\n",
              "      --disabled-bg-color: #3B4455;\n",
              "      --disabled-fill-color: #666;\n",
              "  }\n",
              "\n",
              "  .colab-df-quickchart {\n",
              "    background-color: var(--bg-color);\n",
              "    border: none;\n",
              "    border-radius: 50%;\n",
              "    cursor: pointer;\n",
              "    display: none;\n",
              "    fill: var(--fill-color);\n",
              "    height: 32px;\n",
              "    padding: 0;\n",
              "    width: 32px;\n",
              "  }\n",
              "\n",
              "  .colab-df-quickchart:hover {\n",
              "    background-color: var(--hover-bg-color);\n",
              "    box-shadow: 0 1px 2px rgba(60, 64, 67, 0.3), 0 1px 3px 1px rgba(60, 64, 67, 0.15);\n",
              "    fill: var(--button-hover-fill-color);\n",
              "  }\n",
              "\n",
              "  .colab-df-quickchart-complete:disabled,\n",
              "  .colab-df-quickchart-complete:disabled:hover {\n",
              "    background-color: var(--disabled-bg-color);\n",
              "    fill: var(--disabled-fill-color);\n",
              "    box-shadow: none;\n",
              "  }\n",
              "\n",
              "  .colab-df-spinner {\n",
              "    border: 2px solid var(--fill-color);\n",
              "    border-color: transparent;\n",
              "    border-bottom-color: var(--fill-color);\n",
              "    animation:\n",
              "      spin 1s steps(1) infinite;\n",
              "  }\n",
              "\n",
              "  @keyframes spin {\n",
              "    0% {\n",
              "      border-color: transparent;\n",
              "      border-bottom-color: var(--fill-color);\n",
              "      border-left-color: var(--fill-color);\n",
              "    }\n",
              "    20% {\n",
              "      border-color: transparent;\n",
              "      border-left-color: var(--fill-color);\n",
              "      border-top-color: var(--fill-color);\n",
              "    }\n",
              "    30% {\n",
              "      border-color: transparent;\n",
              "      border-left-color: var(--fill-color);\n",
              "      border-top-color: var(--fill-color);\n",
              "      border-right-color: var(--fill-color);\n",
              "    }\n",
              "    40% {\n",
              "      border-color: transparent;\n",
              "      border-right-color: var(--fill-color);\n",
              "      border-top-color: var(--fill-color);\n",
              "    }\n",
              "    60% {\n",
              "      border-color: transparent;\n",
              "      border-right-color: var(--fill-color);\n",
              "    }\n",
              "    80% {\n",
              "      border-color: transparent;\n",
              "      border-right-color: var(--fill-color);\n",
              "      border-bottom-color: var(--fill-color);\n",
              "    }\n",
              "    90% {\n",
              "      border-color: transparent;\n",
              "      border-bottom-color: var(--fill-color);\n",
              "    }\n",
              "  }\n",
              "</style>\n",
              "\n",
              "  <script>\n",
              "    async function quickchart(key) {\n",
              "      const quickchartButtonEl =\n",
              "        document.querySelector('#' + key + ' button');\n",
              "      quickchartButtonEl.disabled = true;  // To prevent multiple clicks.\n",
              "      quickchartButtonEl.classList.add('colab-df-spinner');\n",
              "      try {\n",
              "        const charts = await google.colab.kernel.invokeFunction(\n",
              "            'suggestCharts', [key], {});\n",
              "      } catch (error) {\n",
              "        console.error('Error during call to suggestCharts:', error);\n",
              "      }\n",
              "      quickchartButtonEl.classList.remove('colab-df-spinner');\n",
              "      quickchartButtonEl.classList.add('colab-df-quickchart-complete');\n",
              "    }\n",
              "    (() => {\n",
              "      let quickchartButtonEl =\n",
              "        document.querySelector('#df-53951b14-8c1a-4120-9b65-c1f55bce7a18 button');\n",
              "      quickchartButtonEl.style.display =\n",
              "        google.colab.kernel.accessAllowed ? 'block' : 'none';\n",
              "    })();\n",
              "  </script>\n",
              "</div>\n",
              "\n",
              "    </div>\n",
              "  </div>\n"
            ],
            "application/vnd.google.colaboratory.intrinsic+json": {
              "type": "dataframe",
              "variable_name": "differnced_preprocessed_df",
              "summary": "{\n  \"name\": \"differnced_preprocessed_df\",\n  \"rows\": 1439,\n  \"fields\": [\n    {\n      \"column\": \"datetime\",\n      \"properties\": {\n        \"dtype\": \"date\",\n        \"min\": \"2023-11-02 00:01:00\",\n        \"max\": \"2023-11-02 23:59:00\",\n        \"num_unique_values\": 1439,\n        \"samples\": [\n          \"2023-11-02 02:49:00\",\n          \"2023-11-02 10:06:00\",\n          \"2023-11-02 09:09:00\"\n        ],\n        \"semantic_type\": \"\",\n        \"description\": \"\"\n      }\n    },\n    {\n      \"column\": \"total_invocations\",\n      \"properties\": {\n        \"dtype\": \"number\",\n        \"std\": 115,\n        \"min\": 353,\n        \"max\": 1812,\n        \"num_unique_values\": 337,\n        \"samples\": [\n          482,\n          557,\n          448\n        ],\n        \"semantic_type\": \"\",\n        \"description\": \"\"\n      }\n    },\n    {\n      \"column\": \"lag_1\",\n      \"properties\": {\n        \"dtype\": \"number\",\n        \"std\": 115.1650248582789,\n        \"min\": 353.0,\n        \"max\": 1812.0,\n        \"num_unique_values\": 337,\n        \"samples\": [\n          482.0,\n          557.0,\n          448.0\n        ],\n        \"semantic_type\": \"\",\n        \"description\": \"\"\n      }\n    },\n    {\n      \"column\": \"lag_2\",\n      \"properties\": {\n        \"dtype\": \"number\",\n        \"std\": 115.18410271554669,\n        \"min\": 353.0,\n        \"max\": 1812.0,\n        \"num_unique_values\": 337,\n        \"samples\": [\n          509.0,\n          557.0,\n          484.0\n        ],\n        \"semantic_type\": \"\",\n        \"description\": \"\"\n      }\n    },\n    {\n      \"column\": \"lag_3\",\n      \"properties\": {\n        \"dtype\": \"number\",\n        \"std\": 115.20420318262516,\n        \"min\": 353.0,\n        \"max\": 1812.0,\n        \"num_unique_values\": 338,\n        \"samples\": [\n          750.0,\n          894.0,\n          425.0\n        ],\n        \"semantic_type\": \"\",\n        \"description\": \"\"\n      }\n    },\n    {\n      \"column\": \"diff_total_invocations\",\n      \"properties\": {\n        \"dtype\": \"number\",\n        \"std\": 134.8136182483268,\n        \"min\": -1265.0,\n        \"max\": 893.0,\n        \"num_unique_values\": 421,\n        \"samples\": [\n          237.0,\n          -121.0,\n          54.0\n        ],\n        \"semantic_type\": \"\",\n        \"description\": \"\"\n      }\n    }\n  ]\n}"
            }
          },
          "metadata": {},
          "execution_count": 282
        }
      ]
    },
    {
      "cell_type": "code",
      "source": [
        "def get_metrics(actual, pred):\n",
        "  mae = mean_absolute_error(actual, pred)\n",
        "  rmse = np.sqrt(mean_squared_error(actual, pred))\n",
        "  mape = np.mean(np.abs((actual - pred) / pred)) * 100\n",
        "  r2 = r2_score(actual, pred)\n",
        "\n",
        "  print(f\"Mean Absolute Error (MAE): {mae}\")\n",
        "  print(f\"Root Mean Squared Error (MAE): {rmse}\")\n",
        "  print(f\"Mean Absolute Percentage Error (MAPE): {mape}\")\n",
        "  print(f\"R-squared (R² Score): {r2}\")"
      ],
      "metadata": {
        "id": "nkLzPMgRbhvj"
      },
      "execution_count": 283,
      "outputs": []
    },
    {
      "cell_type": "markdown",
      "source": [
        "# Differencing Method"
      ],
      "metadata": {
        "id": "tvlI4J2ciJim"
      }
    },
    {
      "cell_type": "markdown",
      "source": [
        "For non differencing method, replace X_with_differencing, y_with_differencing with X_without_differencing and y_without_differencing respectively."
      ],
      "metadata": {
        "id": "BTGBhhb6bcux"
      }
    },
    {
      "cell_type": "markdown",
      "source": [
        "Data Without Differencing"
      ],
      "metadata": {
        "id": "scFkonOWoG9z"
      }
    },
    {
      "cell_type": "code",
      "source": [
        "X_without_differencing = df_without_differencing[[\"lag_1\", \"lag_2\", \"lag_3\"]]\n",
        "y_without_differencing = df_without_differencing[\"total_invocations\"]\n"
      ],
      "metadata": {
        "id": "9YuyXviBslkp"
      },
      "execution_count": 284,
      "outputs": []
    },
    {
      "cell_type": "markdown",
      "source": [
        "Data With Differencing"
      ],
      "metadata": {
        "id": "B_77MLL4oLsx"
      }
    },
    {
      "cell_type": "code",
      "source": [
        "X_with_differencing = differnced_preprocessed_df[[\"lag_1\", \"lag_2\", \"lag_3\"]]\n",
        "y_with_differencing = differnced_preprocessed_df[\"total_invocations\"]\n"
      ],
      "metadata": {
        "id": "-cL7xT6mpTVK"
      },
      "execution_count": 285,
      "outputs": []
    },
    {
      "cell_type": "code",
      "source": [
        "def split_dataset(X, y):\n",
        "  X_train, X_test, y_train, y_test = train_test_split(X, y, test_size=0.2, random_state=42, shuffle=False) # 80% train, 20% test\n",
        "  return X_train, X_test, y_train, y_test"
      ],
      "metadata": {
        "id": "sahPZ-TSgmnM"
      },
      "execution_count": 286,
      "outputs": []
    },
    {
      "cell_type": "markdown",
      "source": [
        "For non differencing method, replace X_with_differencing, y_with_differencing with X_without_differencing and y_without_differencing respectively in the next cell"
      ],
      "metadata": {
        "id": "LTLjWnMtlfmv"
      }
    },
    {
      "cell_type": "code",
      "source": [
        "X_train, X_test, y_train, y_test = split_dataset(X_with_differencing, y_with_differencing)"
      ],
      "metadata": {
        "id": "rtPVBM9DkRCK"
      },
      "execution_count": 287,
      "outputs": []
    },
    {
      "cell_type": "markdown",
      "source": [
        "# Regression"
      ],
      "metadata": {
        "id": "nqGTzxhiht_t"
      }
    },
    {
      "cell_type": "markdown",
      "source": [
        "###Linear Regression Model"
      ],
      "metadata": {
        "id": "vwiZQeA7hnDN"
      }
    },
    {
      "cell_type": "code",
      "source": [
        "model = LinearRegression()\n",
        "model.fit(X_train, y_train)\n",
        "\n",
        "# Predict on the test set\n",
        "y_lr_pred = model.predict(X_test)\n",
        "\n",
        "print(\"Linear Regression Metrics: \")\n",
        "get_metrics(y_test, y_lr_pred)\n",
        "\n"
      ],
      "metadata": {
        "colab": {
          "base_uri": "https://localhost:8080/"
        },
        "id": "Q5oe5EtwkUfR",
        "outputId": "99d1b34d-9077-4fc8-bff2-7508706fd5c1"
      },
      "execution_count": 288,
      "outputs": [
        {
          "output_type": "stream",
          "name": "stdout",
          "text": [
            "Linear Regression Metrics: \n",
            "Mean Absolute Error (MAE): 94.54781088414732\n",
            "Root Mean Squared Error (MAE): 163.41619948473868\n",
            "Mean Absolute Percentage Error (MAPE): 16.1005452874476\n",
            "R-squared (R² Score): -0.13505055957720535\n"
          ]
        }
      ]
    },
    {
      "cell_type": "markdown",
      "source": [
        "### Support Vector Machines (SVM)"
      ],
      "metadata": {
        "id": "DUXZogOgrT2B"
      }
    },
    {
      "cell_type": "code",
      "source": [
        "svm_model = SVR(kernel='linear')  # choose different kernels like 'rbf', 'poly', etc.\n",
        "svm_model.fit(X_train, y_train)\n",
        "\n",
        "y_svm_pred = svm_model.predict(X_test)\n",
        "print(\"SVM metrics: \")\n",
        "get_metrics(y_test, y_svm_pred)\n"
      ],
      "metadata": {
        "colab": {
          "base_uri": "https://localhost:8080/"
        },
        "id": "9XcMa8SUk7y_",
        "outputId": "af3c8817-4d5a-49a4-9d35-ab0e87b0f73d"
      },
      "execution_count": 289,
      "outputs": [
        {
          "output_type": "stream",
          "name": "stdout",
          "text": [
            "SVM metrics: \n",
            "Mean Absolute Error (MAE): 89.29667668948701\n",
            "Root Mean Squared Error (MAE): 161.84760943322883\n",
            "Mean Absolute Percentage Error (MAPE): 16.29981640658717\n",
            "R-squared (R² Score): -0.11336502189742093\n"
          ]
        }
      ]
    },
    {
      "cell_type": "markdown",
      "source": [
        "### Random Forest"
      ],
      "metadata": {
        "id": "1QmoOg3otOnh"
      }
    },
    {
      "cell_type": "code",
      "source": [
        "rf_model = RandomForestRegressor(n_estimators=100, random_state=42)  # adjust n-estimators\n",
        "rf_model.fit(X_train, y_train)\n",
        "\n",
        "y_rf_pred = rf_model.predict(X_test)\n",
        "print(\"Random Forest Metrics:\")\n",
        "get_metrics(y_test, y_rf_pred)"
      ],
      "metadata": {
        "colab": {
          "base_uri": "https://localhost:8080/"
        },
        "id": "SytW8glwrba3",
        "outputId": "68be0392-3177-46f3-e375-8210ccc2cadd"
      },
      "execution_count": 290,
      "outputs": [
        {
          "output_type": "stream",
          "name": "stdout",
          "text": [
            "Random Forest Metrics:\n",
            "Mean Absolute Error (MAE): 88.4410925925926\n",
            "Root Mean Squared Error (MAE): 162.40569999185888\n",
            "Mean Absolute Percentage Error (MAPE): 15.753331698002631\n",
            "R-squared (R² Score): -0.12105657579878981\n"
          ]
        }
      ]
    },
    {
      "cell_type": "markdown",
      "source": [
        "### Plot between Actual and Predicted Values"
      ],
      "metadata": {
        "id": "b5JO4kdzY7bW"
      }
    },
    {
      "cell_type": "code",
      "source": [
        "fig, axes = plt.subplots(1, 3, figsize=(18, 5))\n",
        "\n",
        "#  Actual vs Linear Regression\n",
        "axes[0].plot(y_test.values, label=\"Actual\", color=\"blue\")\n",
        "axes[0].plot(y_lr_pred, label=\"Linear Regression\", color=\"orange\")\n",
        "axes[0].set_title(\"Actual vs Linear Regression\")\n",
        "axes[0].set_xlabel(\"Data Points\")\n",
        "axes[0].set_ylabel(\"Total Invocations\")\n",
        "axes[0].legend()\n",
        "axes[0].grid(True)\n",
        "\n",
        "#  Actual vs SVM\n",
        "axes[1].plot(y_test.values, label=\"Actual\", color=\"blue\")\n",
        "axes[1].plot(y_svm_pred, label=\"SVM\", color=\"green\")\n",
        "axes[1].set_title(\"Actual vs SVM\")\n",
        "axes[1].set_xlabel(\"Data Points\")\n",
        "axes[1].legend()\n",
        "axes[1].grid(True)\n",
        "\n",
        "#  Actual vs Random Forest\n",
        "axes[2].plot(y_test.values, label=\"Actual\", color=\"blue\")\n",
        "axes[2].plot(y_rf_pred, label=\"Random Forest\", color=\"red\")\n",
        "axes[2].set_title(\"Actual vs Random Forest\")\n",
        "axes[2].set_xlabel(\"Data Points\")\n",
        "axes[2].legend()\n",
        "axes[2].grid(True)\n",
        "\n",
        "# Adjust layout and show the plot\n",
        "plt.tight_layout()\n",
        "plt.show()"
      ],
      "metadata": {
        "colab": {
          "base_uri": "https://localhost:8080/",
          "height": 369
        },
        "id": "U_WVJGnvY1rG",
        "outputId": "78f6301c-0975-486d-a45d-8d4bedd7591b"
      },
      "execution_count": 291,
      "outputs": [
        {
          "output_type": "display_data",
          "data": {
            "text/plain": [
              "<Figure size 1800x500 with 3 Axes>"
            ],
            "image/png": "[encoded data removed]"
          },
          "metadata": {}
        }
      ]
    },
    {
      "cell_type": "markdown",
      "source": [
        "# Classification"
      ],
      "metadata": {
        "id": "l9r6nOfxYtI0"
      }
    },
    {
      "cell_type": "markdown",
      "source": [
        "### Logistic Regression Model"
      ],
      "metadata": {
        "id": "V1J3P4uLTQOp"
      }
    },
    {
      "cell_type": "code",
      "source": [
        "def get_classification_data():\n",
        "  cdf = pd.read_csv(\"/content/day_01.csv\")\n",
        "  cdf = get_preprocess_data_without_differencing(cdf) #without differencing\n",
        "  cdf_with_differncing = apply_differencing(cdf) #with differencing\n",
        "  threshold = cdf_with_differncing['diff_total_invocations'].median()\n",
        "  cdf_with_differncing['target'] = cdf_with_differncing['diff_total_invocations'].apply(lambda x: 1 if x >= threshold else 0)\n",
        "\n",
        "  return cdf_with_differncing\n"
      ],
      "metadata": {
        "id": "6TYATSoJa7Fw"
      },
      "execution_count": 292,
      "outputs": []
    },
    {
      "cell_type": "code",
      "source": [
        "from sklearn.linear_model import LogisticRegression\n",
        "from sklearn.metrics import accuracy_score, classification_report"
      ],
      "metadata": {
        "id": "JuV90zXkUvfL"
      },
      "execution_count": 293,
      "outputs": []
    },
    {
      "cell_type": "code",
      "source": [
        "lrdf = get_classification_data()\n",
        "lrdf.head()\n",
        "X = lrdf[['lag_1', 'lag_2', 'lag_3']]\n",
        "y = lrdf['target']\n",
        "\n",
        "X_lor_train, X_lor_test, y_lor_train, y_lor_test = train_test_split(X, y, test_size=0.2, random_state=42)\n",
        "\n",
        "log_reg = LogisticRegression()\n",
        "log_reg.fit(X_lor_train, y_lor_train)\n",
        "\n",
        "# Predict\n",
        "y_lor_pred = log_reg.predict(X_lor_test)\n",
        "\n",
        "# Evaluate\n",
        "print(\"Accuracy:\", accuracy_score(y_lor_test, y_lor_pred))\n",
        "print(\"Classification Report:\\n\", classification_report(y_lor_test, y_lor_pred))"
      ],
      "metadata": {
        "colab": {
          "base_uri": "https://localhost:8080/"
        },
        "collapsed": true,
        "id": "Or3aYcbwU33U",
        "outputId": "30ced8cd-127d-432b-928e-e16c04d64ff8"
      },
      "execution_count": 294,
      "outputs": [
        {
          "output_type": "stream",
          "name": "stdout",
          "text": [
            "Accuracy: 0.7291666666666666\n",
            "Classification Report:\n",
            "               precision    recall  f1-score   support\n",
            "\n",
            "           0       0.73      0.65      0.69       132\n",
            "           1       0.73      0.79      0.76       156\n",
            "\n",
            "    accuracy                           0.73       288\n",
            "   macro avg       0.73      0.72      0.72       288\n",
            "weighted avg       0.73      0.73      0.73       288\n",
            "\n"
          ]
        }
      ]
    },
    {
      "cell_type": "code",
      "source": [
        "lrdf.to_csv(\"classificatoin_preprocessed_dataset.csv\")"
      ],
      "metadata": {
        "id": "v91VoRyksRNz"
      },
      "execution_count": 301,
      "outputs": []
    },
    {
      "cell_type": "markdown",
      "source": [
        "### Support vector machines"
      ],
      "metadata": {
        "id": "8_TcyCd2ZOPR"
      }
    },
    {
      "cell_type": "code",
      "source": [
        "svdf = get_classification_data()\n",
        "X = svdf[['lag_1', 'lag_2', 'lag_3']]\n",
        "y = svdf['target']\n",
        "\n",
        "X_svm2_train, X_svm2_test, y_svm2_train, y_svm2_test = train_test_split(X, y, test_size=0.2, random_state=42)"
      ],
      "metadata": {
        "collapsed": true,
        "id": "GEH93TB3blVE"
      },
      "execution_count": 295,
      "outputs": []
    },
    {
      "cell_type": "code",
      "source": [
        "from sklearn.svm import SVC\n",
        "# Support Vector Machine (SVM) Classifier\n",
        "svm_model = SVC(kernel='linear', random_state=42)  # You can change the kernel to 'rbf' or 'poly'\n",
        "svm_model.fit(X_svm2_train, y_svm2_train)\n",
        "\n",
        "# Predict with SVM\n",
        "y_pred_svm = svm_model.predict(X_svm2_test)\n",
        "\n",
        "# Evaluate SVM\n",
        "print(\"\\nSVM Results:\")\n",
        "print(\"Accuracy:\", accuracy_score(y_svm2_test, y_pred_svm))\n",
        "print(\"Classification Report:\\n\", classification_report(y_svm2_test, y_pred_svm))"
      ],
      "metadata": {
        "colab": {
          "base_uri": "https://localhost:8080/"
        },
        "id": "2sqmBZ3DZw-L",
        "outputId": "c00569b3-404e-45d9-9920-9801c8d7e219"
      },
      "execution_count": 296,
      "outputs": [
        {
          "output_type": "stream",
          "name": "stdout",
          "text": [
            "\n",
            "SVM Results:\n",
            "Accuracy: 0.7222222222222222\n",
            "Classification Report:\n",
            "               precision    recall  f1-score   support\n",
            "\n",
            "           0       0.72      0.64      0.68       132\n",
            "           1       0.72      0.79      0.76       156\n",
            "\n",
            "    accuracy                           0.72       288\n",
            "   macro avg       0.72      0.72      0.72       288\n",
            "weighted avg       0.72      0.72      0.72       288\n",
            "\n"
          ]
        }
      ]
    },
    {
      "cell_type": "markdown",
      "source": [
        "### Random Forest Classifier"
      ],
      "metadata": {
        "id": "TEd_iHsicv4l"
      }
    },
    {
      "cell_type": "code",
      "source": [
        "rfdf2 = get_classification_data()\n",
        "X = rfdf2[['lag_1', 'lag_2', 'lag_3']]\n",
        "y = rfdf2['target']\n",
        "\n",
        "# Split the data\n",
        "X_rfdf2_train, X_rfdf2_test, y_rfdf2_train, y_rfdf2_test = train_test_split(X, y, test_size=0.2, random_state=42)"
      ],
      "metadata": {
        "id": "h2dsNWCHaQDC"
      },
      "execution_count": 269,
      "outputs": []
    },
    {
      "cell_type": "code",
      "source": [
        "from sklearn.ensemble import RandomForestClassifier\n",
        "# Random Forest Classifier\n",
        "rf_model = RandomForestClassifier(n_estimators=100, random_state=42)  # You can adjust n_estimators\n",
        "rf_model.fit(X_rfdf2_train, y_rfdf2_train)\n",
        "\n",
        "# Predict with Random Forest\n",
        "y_pred_rf = rf_model.predict(X_rfdf2_test)\n",
        "\n",
        "# Evaluate Random Forest\n",
        "print(\"Random Forest Results:\")\n",
        "print(\"Accuracy:\", accuracy_score(y_rfdf2_test, y_pred_rf))\n",
        "print(\"Classification Report:\\n\", classification_report(y_rfdf2_test, y_pred_rf))"
      ],
      "metadata": {
        "colab": {
          "base_uri": "https://localhost:8080/"
        },
        "id": "qZbJfmK8cvSf",
        "outputId": "ba7570f8-549d-4414-a8ad-ec6af19ed489"
      },
      "execution_count": 270,
      "outputs": [
        {
          "output_type": "stream",
          "name": "stdout",
          "text": [
            "Random Forest Results:\n",
            "Accuracy: 0.7048611111111112\n",
            "Classification Report:\n",
            "               precision    recall  f1-score   support\n",
            "\n",
            "           0       0.68      0.68      0.68       132\n",
            "           1       0.73      0.72      0.73       156\n",
            "\n",
            "    accuracy                           0.70       288\n",
            "   macro avg       0.70      0.70      0.70       288\n",
            "weighted avg       0.71      0.70      0.70       288\n",
            "\n"
          ]
        }
      ]
    },
    {
      "cell_type": "code",
      "source": [
        "import matplotlib.pyplot as plt\n",
        "import numpy as np\n",
        "\n",
        "# hard coding values of accuracy, precision, recall and f1 score\n",
        "models = ['Logistic Regression', 'SVM', 'Random Forest']\n",
        "accuracy = [0.72, 0.73, 0.70]  # Accuracy values\n",
        "precision = [0.73, 0.72, 0.71]       # Precision values (macro avg)\n",
        "recall = [0.65, 0.72, 0.70]          # Recall values (macro avg)\n",
        "f1_score = [0.70, 0.72, 0.73]        # F1-score values (macro avg)\n",
        "\n",
        "x = np.arange(len(models))  # Label locations\n",
        "width = 0.15  # Width of the bars\n",
        "\n",
        "fig, ax = plt.subplots(figsize=(10, 4))\n",
        "\n",
        "# Plot bars for each metric\n",
        "rects1 = ax.bar(x - width, accuracy, width, label='Accuracy', color='blue')\n",
        "rects2 = ax.bar(x, precision, width, label='Precision (Macro Avg)', color='orange')\n",
        "rects3 = ax.bar(x + width, recall, width, label='Recall (Macro Avg)', color='green')\n",
        "rects4 = ax.bar(x + 2 * width, f1_score, width, label='F1-Score (Macro Avg)', color='red')\n",
        "\n",
        "\n",
        "ax.set_ylim(0, 1)\n",
        "\n",
        "ax.set_xlabel('Models')\n",
        "ax.set_ylabel('Scores')\n",
        "ax.set_title('Model Performance Comparison')\n",
        "ax.set_xticks(x)\n",
        "ax.set_xticklabels(models)\n",
        "ax.legend()\n",
        "\n",
        "def autolabel(rects):\n",
        "    for rect in rects:\n",
        "        height = rect.get_height()\n",
        "        ax.annotate(f'{height:.2f}',\n",
        "                    xy=(rect.get_x() + rect.get_width() / 2, height),\n",
        "                    xytext=(0, 3),\n",
        "                    textcoords=\"offset points\",\n",
        "                    ha='center', va='bottom')\n",
        "\n",
        "autolabel(rects1)\n",
        "autolabel(rects2)\n",
        "autolabel(rects3)\n",
        "autolabel(rects4)\n",
        "\n",
        "plt.tight_layout()\n",
        "plt.show()"
      ],
      "metadata": {
        "id": "CFQ15hMjdTsx",
        "colab": {
          "base_uri": "https://localhost:8080/",
          "height": 407
        },
        "outputId": "18358ee9-072c-4b8c-eade-f5144e025c1b"
      },
      "execution_count": 297,
      "outputs": [
        {
          "output_type": "display_data",
          "data": {
            "text/plain": [
              "<Figure size 1000x400 with 1 Axes>"
            ],
            "image/png": "[encoded data removed]"
          },
          "metadata": {}
        }
      ]
    },
    {
      "cell_type": "code",
      "source": [],
      "metadata": {
        "id": "T5RYOMwWSEzt"
      },
      "execution_count": 271,
      "outputs": []
    }
  ]
}